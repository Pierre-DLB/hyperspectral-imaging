{
 "cells": [
  {
   "cell_type": "code",
   "execution_count": 13,
   "metadata": {},
   "outputs": [],
   "source": [
    "import scipy.io as sio\n",
    "import yaml\n",
    "from pathlib import Path\n",
    "import numpy as np\n",
    "import matplotlib.pyplot as plt\n",
    "\n",
    "from torch import nn\n",
    "from typing import Dict, List\n",
    "import torchvision.transforms as T\n",
    "\n",
    "import torch\n",
    "from torch.utils.data import Dataset, DataLoader\n",
    "from torchvision.transforms import Compose, ToTensor\n",
    "from sklearn.preprocessing import StandardScaler\n",
    "from sklearn.pipeline import Pipeline, make_pipeline\n",
    "from torchinfo import summary\n",
    "\n",
    "from sklearn.metrics import accuracy_score\n",
    "import seaborn as sns\n",
    "from tqdm.notebook import tqdm\n",
    "\n",
    "import utils as u\n",
    "import RPNetRFextractor as rp\n",
    "\n",
    "from sklearn.decomposition import PCA\n",
    "from sklearn.svm import SVC, LinearSVC\n",
    "import pickle\n",
    "\n",
    "\n",
    "from sklearn.model_selection import train_test_split\n",
    "\n",
    "configuration = yaml.safe_load(open('config.yaml'))\n",
    "data_path= configuration[\"data\"]\n",
    "parameters = configuration[\"parameters\"]\n",
    "\n",
    "\n"
   ]
  },
  {
   "cell_type": "markdown",
   "metadata": {},
   "source": [
    "# Build data tools"
   ]
  },
  {
   "cell_type": "code",
   "execution_count": 14,
   "metadata": {},
   "outputs": [],
   "source": [
    "# create data tools : data loader and data set\n",
    "\n",
    "class HSI_Dataset(Dataset):\n",
    "\n",
    "    def __init__(self, X, y, transform=None):\n",
    "        \"\"\" X is a FLATTENED HSI volume dataset, y is a 1D FLATTENED tensor with the ground truth\"\"\"\n",
    "        super().__init__()\n",
    "        if transform is None:\n",
    "            self.X = torch.tensor(X, dtype=torch.float32)\n",
    "        else:\n",
    "            self.X = transform(X) # should be transformed to tensors + normalized\n",
    "        self.y = torch.tensor(y, dtype=torch.float32) # should be transformed to tensor + normalized\n",
    "        self.transform = transform\n",
    "\n",
    "        assert X.shape[0] == len(y)\n",
    "\n",
    "    def __len__(self):\n",
    "        return len(self.y)\n",
    "\n",
    "    def __getitem__(self, i):\n",
    "        return self.X[i], self.y[i]\n",
    "\n",
    "\n",
    "class HSI_AEDataset(Dataset):\n",
    "    \"\"\" Dataset class returning the X values and noise(X)\"\"\"\n",
    "    def __init__(self, X, noise, transform=torch.tensor):\n",
    "        \"\"\" X is a FLATTENED HSI volume dataset, y is a 1D FLATTENED tensor with the ground truth\"\"\"\n",
    "        super().__init__()\n",
    "        self.X = transform(X) # should be transformed to tensors + normalized\n",
    "        self.transform = transform\n",
    "        self.noise = noise\n",
    "\n",
    "    def __len__(self):\n",
    "        return self.X.shape[0]\n",
    "\n",
    "    def __getitem__(self, i):\n",
    "        if self.noise is None:\n",
    "            return self.X[i], self.X[i]\n",
    "        else:\n",
    "            return self.noise(self.X[i]), self.X[i]\n",
    "\n"
   ]
  },
  {
   "cell_type": "code",
   "execution_count": 15,
   "metadata": {},
   "outputs": [],
   "source": [
    "data = u.load_data(\"KSC\")\n",
    "X, y = data"
   ]
  },
  {
   "cell_type": "code",
   "execution_count": 5,
   "metadata": {},
   "outputs": [],
   "source": [
    "\n",
    "# train_ds = HSI_Dataset(X_train, y_train, transform=in_transform)\n",
    "# test_ds = HSI_Dataset(X_test, y_test, transform=in_transform)\n",
    "\n",
    "def scaler(X, vals=None):\n",
    "    x = torch.tensor(X, dtype=torch.float32)\n",
    "    m, std = torch.std_mean(x, axis=0)\n",
    "    if vals is None:\n",
    "        return (x-m)/std\n",
    "    else:\n",
    "        return (x-m)/std, (m, std)\n",
    "    \n",
    "def min_max_scaler(X, vals=None):\n",
    "    x = torch.tensor(X, dtype=torch.float32)\n",
    "    min, max = torch.min(x, axis=0), torch.max(x, axis=0)\n",
    "    if vals is None:\n",
    "        return (x-min)/(max-min)\n",
    "    else:\n",
    "        return (x-min)/(max-min), (max,min)\n",
    "\n",
    "def gaussian_noise(x, m=0, s=0.1):\n",
    "    x = x+ torch.normal(m*torch.zeros_like(x), std=s*torch.ones_like(x))\n",
    "    return x\n",
    "\n",
    "def zero_noise(x, p=10):\n",
    "    \"\"\" randomly sets p coordinates to 0\"\"\"\n",
    "    size = x.shape[0]\n",
    "    idx = np.random.choice(range(size), size=p, replace=False)\n",
    "    x[idx]=0.\n",
    "    return x\n",
    "\n",
    "\n",
    "train_ds = HSI_Dataset(X_train, y_train)\n",
    "test_ds = HSI_Dataset(X_test, y_test)\n",
    "\n",
    "\n",
    "train_dl = DataLoader(train_ds, batch_size=1000, shuffle=True)\n",
    "test_dl = DataLoader(test_ds, batch_size=1000, shuffle=False)"
   ]
  },
  {
   "cell_type": "markdown",
   "metadata": {},
   "source": [
    "# Auto encoder based"
   ]
  },
  {
   "cell_type": "markdown",
   "metadata": {},
   "source": [
    "# Training"
   ]
  },
  {
   "cell_type": "markdown",
   "metadata": {},
   "source": [
    "We are going to test a few auto encoders : \n",
    "\n",
    "![EncoderImage](EncoderTypes.png)"
   ]
  },
  {
   "cell_type": "markdown",
   "metadata": {},
   "source": [
    "$J(W,b) = \\frac{1}{m} \\sum_{i=1}^{m} \\frac{1}{2} | r^{(i)} - x^{(i)}|^2 + \\frac{\\lambda}{2} \\sum_{l=1}^{n_l-1} \\sum_{i=1}^{s_l} \\sum_{j=1}^{s_{l+1}} (W_{ji}^{(l)})^2 + \\beta \\sum_{k=1}^{m} KL(\\rho | \\hat{\\rho}_k)$"
   ]
  },
  {
   "cell_type": "markdown",
   "metadata": {},
   "source": [
    "## Uncomplete auto encoders"
   ]
  },
  {
   "cell_type": "code",
   "execution_count": 6,
   "metadata": {},
   "outputs": [
    {
     "name": "stdout",
     "output_type": "stream",
     "text": [
      "Full :  (313325, 176) (313325,)\n",
      "Not Full :  (4168, 176) (4168,)\n"
     ]
    }
   ],
   "source": [
    "data = u.load_data(\"KSC\")\n",
    "X, y = data\n",
    "train_data, test_data, unsup_data = u.data_split(data[1], seed=42)\n",
    "X_log = np.log(X/2+1)-np.log(2)\n",
    "\n",
    "X_train_full, y_train_full = X_log[train_data + unsup_data], y[train_data + unsup_data]\n",
    "X_train, y_train = X_log[train_data], y[train_data]\n",
    "X_unsup, y_unsup = X_log[unsup_data], y[unsup_data]\n",
    "X_test, y_test = X_log[test_data], y[test_data]\n",
    "\n",
    "print(\"Full : \", X_train_full.shape, y_train_full.shape)\n",
    "print(\"Not Full : \", X_train.shape, y_train.shape)"
   ]
  },
  {
   "cell_type": "code",
   "execution_count": 7,
   "metadata": {},
   "outputs": [],
   "source": [
    "import ae_architecture as ae\n",
    "\n",
    "\n",
    "# train_ds = HSI_AEDataset(X_train_full, noise=None, transform=scaler)\n",
    "train_ds = HSI_AEDataset(X_train, noise=None, transform=scaler)\n",
    "test_ds = HSI_AEDataset(X_test, noise=None, transform=scaler)\n",
    "unsup_ds = HSI_AEDataset(X_unsup, noise=None, transform=scaler)\n",
    "\n",
    "# batch size à 522 pour avoir qqch qui divise la taille du dataset\n",
    "\n",
    "train_dl = DataLoader(train_ds, batch_size=522, shuffle=True)\n",
    "unsup_dl = DataLoader(unsup_ds, batch_size=2048, shuffle=True)\n",
    "test_dl = DataLoader(test_ds, batch_size=1043, shuffle=False)\n",
    "\n",
    "\n",
    "# CONSTANTS\n",
    "\n",
    "n_in = X_train.shape[1] # next(iter(train_dl))[0].shape[1]\n",
    "bottleneck= 14 # because 14 classes"
   ]
  },
  {
   "cell_type": "markdown",
   "metadata": {},
   "source": [
    "### Question : What is the right architecture, and how many epochs do we need ?\n",
    "Solution : Test a few diffrent architectures and epochs"
   ]
  },
  {
   "cell_type": "code",
   "execution_count": 8,
   "metadata": {},
   "outputs": [],
   "source": [
    "ratios = [0.2, 0.4, 0.6, 1.0, 1.5, 2.0, 3.0, 5.0]\n",
    "\n",
    "\n",
    "def test_different_sae(ratios, lr=0.001, n_in=n_in, bottleneck=bottleneck):\n",
    "\n",
    "    results = {r: [] for r in ratios}\n",
    "\n",
    "    for r in tqdm(ratios, desc=\"Processing Ratios\"):\n",
    "        sae = ae.ShallowAE(n_in, int(n_in*r), bottleneck)\n",
    "        loss_fn = nn.MSELoss()\n",
    "        optimizer = torch.optim.Adam(params=sae.parameters(), lr=lr)\n",
    "        loss_train, loss_test= ae.train_ae(sae, optimizer, loss_fn, train_dl, test_dl, epochs=30, verbose=False)\n",
    "        results[r]=[loss_train, loss_test]\n",
    "        torch.save(sae.state_dict(), f\"models/sae_{r}.pt\")\n",
    "    epoch_results = {r: (\n",
    "                     [results[r][0][epoch].mean() for epoch in range(30)],\n",
    "                     [results[r][1][epoch].mean() for epoch in range(30)]\n",
    "                     ) \n",
    "                     for r in ratios}\n",
    "    \n",
    "    with open(f'models/resultats_lr{lr}.pkl', 'wb') as file:\n",
    "        pickle.dump(epoch_results, file)\n",
    "    print(f\"Dictionary saved to models/results_lr{lr}.pkl\")\n",
    "    \n",
    "    return epoch_results"
   ]
  },
  {
   "cell_type": "code",
   "execution_count": 9,
   "metadata": {},
   "outputs": [],
   "source": [
    "def test_shallow_ae(ratio:float, lr:float, n_in:int=n_in, bottleneck:int=14, epochs:int=30):\n",
    "    sae = ae.ShallowAE(n_in, int(n_in*ratio), bottleneck)\n",
    "    loss_fn = nn.MSELoss()\n",
    "    optimizer = torch.optim.Adam(params=sae.parameters(), lr=lr)\n",
    "    loss_train, loss_test= ae.train_ae(sae, optimizer, loss_fn, train_dl, test_dl, device=\"mps\", epochs=epochs, verbose=False)\n",
    "    results = np.array([lt.mean() for lt in loss_train]), np.array([lt.mean() for lt in loss_test])\n",
    "    # torch.save(sae.state_dict(), f\"models/sae_{r}_{lr}_{epochs}.pt\")\n",
    "    return results #, sae\n",
    "\n",
    "def plot_ae(ratio:float, lr:float, n_in:int=n_in, bottleneck:int=14, epochs:int=30):\n",
    "\n",
    "    #auto encoder build\n",
    "    sae = ae.ShallowAE(n_in, int(n_in*ratio), bottleneck)\n",
    "    loss_fn = nn.MSELoss()\n",
    "    optimizer = torch.optim.Adam(params=sae.parameters(), lr=lr)\n",
    "\n",
    "    # Auto encoder training\n",
    "    loss_train, loss_test= ae.train_ae(sae, optimizer, loss_fn, train_dl, test_dl, epochs=epochs, verbose=False)\n",
    "    results = np.array([lt.mean() for lt in loss_train]), np.array([lt.mean() for lt in loss_test])\n",
    "\n",
    "    #figure plotting\n",
    "    fig, ax = plt.subplots(2,1, figsize=(6,12))\n",
    "    ax[0].plot(range(epochs), results[0], c='orange', label='Train')\n",
    "    ax[0].plot(range(epochs), results[1], c='b', label='Test')\n",
    "\n",
    "    ax[1].plot(range(epochs), np.log(results[0]), c='orange', label='logTrain')\n",
    "    ax[1].plot(range(epochs), np.log(results[1]), c='b', label='logTest')\n",
    "    plt.legend()\n",
    "    plt.savefig(f\"figures/ae{ratio}_{lr}_{n_in}_{bottleneck}_{epochs}.png\")\n",
    "\n",
    "    return results"
   ]
  },
  {
   "cell_type": "markdown",
   "metadata": {},
   "source": [
    "# Test d'efficacité sur classif:"
   ]
  },
  {
   "cell_type": "code",
   "execution_count": null,
   "metadata": {},
   "outputs": [],
   "source": [
    "def encode_x(x, autoencoder, preprocessing=None, device=\"cpu\"):\n",
    "    \"\"\" Encodes the data using the autoencoder\"\"\"\n",
    "    autoencoder.to(device).eval()\n",
    "    x = torch.tensor(x, device=device, dtype=torch.float32)\n",
    "    if preprocessing is not None:\n",
    "        x = preprocessing(x)\n",
    "    x_encoded = autoencoder.encode(x)\n",
    "    return x_encoded.to(\"cpu\").detach().numpy()\n"
   ]
  },
  {
   "cell_type": "code",
   "execution_count": null,
   "metadata": {},
   "outputs": [
    {
     "name": "stderr",
     "output_type": "stream",
     "text": [
      "/var/folders/c8/ft8h90qs3w15w18mddqpg0h40000gn/T/ipykernel_26963/34164461.py:5: UserWarning: To copy construct from a tensor, it is recommended to use sourceTensor.clone().detach() or sourceTensor.clone().detach().requires_grad_(True), rather than torch.tensor(sourceTensor).\n",
      "  x = torch.tensor(X, dtype=torch.float32)\n"
     ]
    }
   ],
   "source": [
    "latent_x_unsup = encode_x(X_unsup, sae, preprocessing=scaler, device=\"mps\")\n",
    "latent_x_train = encode_x(X_train, sae, preprocessing=scaler, device=\"mps\")\n",
    "latent_x_test = encode_x(X_test, sae, preprocessing=scaler, device=\"mps\")"
   ]
  },
  {
   "cell_type": "code",
   "execution_count": null,
   "metadata": {},
   "outputs": [
    {
     "name": "stdout",
     "output_type": "stream",
     "text": [
      "0.4947267497603068\n",
      "0.4793863854266539\n"
     ]
    }
   ],
   "source": [
    "from sklearn.svm import SVC\n",
    "from sklearn.model_selection import GridSearchCV\n",
    "# import random forest : \n",
    "from sklearn.ensemble import RandomForestClassifier\n",
    "\n",
    "from sklearn.metrics import accuracy_score\n",
    "\n",
    "\n",
    "# C, kernel, degree, gamma.\n",
    "\n",
    "rf = RandomForestClassifier(n_estimators=100, max_depth=13, random_state=42)\n",
    "svc =  SVC(C=100, kernel='rbf', degree=3, gamma=2)\n",
    "\n",
    "svc.fit(latent_x_train_np, y_train)\n",
    "rf.fit(latent_x_train_np, y_train)\n",
    "\n",
    "print(accuracy_score(y_test, svc.predict(latent_x_test_np)))\n",
    "print(accuracy_score(y_test, rf.predict(latent_x_test_np)))\n",
    "# print(accuracy_score(y_test, ))"
   ]
  },
  {
   "cell_type": "markdown",
   "metadata": {},
   "source": [
    "# SQRT encoders : "
   ]
  },
  {
   "cell_type": "code",
   "execution_count": null,
   "metadata": {},
   "outputs": [],
   "source": [
    "X_sqrt = np.sqrt(X/2+1)\n",
    "\n",
    "X_train_full, y_train_full = X_sqrt[train_data + unsup_data], y[train_data + unsup_data]\n",
    "X_train2, y_train = X_sqrt[train_data], y[train_data]\n",
    "X_unsup2, y_unsup = X_sqrt[unsup_data], y[unsup_data]\n",
    "X_test2, y_test = X_sqrt[test_data], y[test_data]\n",
    "\n",
    "# print(\"Full : \", X_train_full.shape, y_train_full.shape)\n",
    "# print(\"Not Full : \", X_train2.shape, y_train.shape)\n",
    "\n",
    "# train_ds = HSI_AEDataset(X_train_full, noise=None, transform=scaler)\n",
    "train_ds2 = HSI_AEDataset(X_train2, noise=None, transform=scaler)\n",
    "test_ds2 = HSI_AEDataset(X_test2, noise=None, transform=scaler)\n",
    "unsup_ds2 = HSI_AEDataset(X_unsup2, noise=None, transform=scaler)\n",
    "\n",
    "# batch size à 522 pour avoir qqch qui divise la taille du dataset\n",
    "\n",
    "train_dl2 = DataLoader(train_ds2, batch_size=522, shuffle=True)\n",
    "unsup_dl2 = DataLoader(unsup_ds2, batch_size=2048, shuffle=True)\n",
    "test_dl2 = DataLoader(test_ds2, batch_size=1043, shuffle=False)\n",
    "\n",
    "\n",
    "# CONSTANTS\n",
    "\n",
    "n_in = X_train2.shape[1] # next(iter(train_dl))[0].shape[1]\n",
    "bottleneck= 14 # because 14 classes"
   ]
  },
  {
   "cell_type": "code",
   "execution_count": null,
   "metadata": {},
   "outputs": [
    {
     "name": "stdout",
     "output_type": "stream",
     "text": [
      "Epoch 1 :\n",
      "\tLOSSES : 0.4657866731286049 - 0.3232041597366333\n",
      "Epoch 2 :\n",
      "\tLOSSES : 0.28512720949947834 - 0.2593648433685303\n",
      "Epoch 3 :\n",
      "\tLOSSES : 0.2328360676765442 - 0.21937057375907898\n",
      "Epoch 4 :\n",
      "\tLOSSES : 0.17311768140643835 - 0.16724152863025665\n",
      "Epoch 5 :\n",
      "\tLOSSES : 0.14156311377882957 - 0.14239847660064697\n",
      "Epoch 6 :\n",
      "\tLOSSES : 0.11899473611265421 - 0.12693288922309875\n",
      "Epoch 7 :\n",
      "\tLOSSES : 0.10409979848191142 - 0.12299539148807526\n",
      "Epoch 8 :\n",
      "\tLOSSES : 0.09186435909941792 - 0.10750675201416016\n",
      "Epoch 9 :\n",
      "\tLOSSES : 0.07920327223837376 - 0.10035766661167145\n",
      "Epoch 10 :\n",
      "\tLOSSES : 0.06737481954041868 - 0.09087329357862473\n",
      "Epoch 11 :\n",
      "\tLOSSES : 0.05455116170924157 - 0.0865565687417984\n",
      "Epoch 12 :\n",
      "\tLOSSES : 0.04666066518984735 - 0.08181528747081757\n",
      "Epoch 13 :\n",
      "\tLOSSES : 0.042926494614221156 - 0.08472628146409988\n",
      "Epoch 14 :\n",
      "\tLOSSES : 0.039871263375971466 - 0.07920143008232117\n",
      "Epoch 15 :\n",
      "\tLOSSES : 0.03778561652870849 - 0.08045359700918198\n",
      "Epoch 16 :\n",
      "\tLOSSES : 0.03474006161559373 - 0.07726212590932846\n",
      "Epoch 17 :\n",
      "\tLOSSES : 0.03189224179368466 - 0.07505255192518234\n",
      "Epoch 18 :\n",
      "\tLOSSES : 0.029731477319728583 - 0.0734383761882782\n",
      "Epoch 19 :\n",
      "\tLOSSES : 0.026266529341228306 - 0.0718938559293747\n",
      "Epoch 20 :\n",
      "\tLOSSES : 0.023513211403042078 - 0.07254505157470703\n",
      "Epoch 21 :\n",
      "\tLOSSES : 0.022225356195122004 - 0.06887368112802505\n",
      "Epoch 22 :\n",
      "\tLOSSES : 0.018925870797829702 - 0.06937594711780548\n",
      "Epoch 23 :\n",
      "\tLOSSES : 0.01730170618975535 - 0.07051330804824829\n",
      "Epoch 24 :\n",
      "\tLOSSES : 0.016459892445709556 - 0.07063233107328415\n",
      "Epoch 25 :\n",
      "\tLOSSES : 0.014396073413081467 - 0.0676841139793396\n",
      "Epoch 26 :\n",
      "\tLOSSES : 0.013450577447656542 - 0.06925644725561142\n",
      "Epoch 27 :\n",
      "\tLOSSES : 0.012781461206031963 - 0.0688708946108818\n",
      "Epoch 28 :\n",
      "\tLOSSES : 0.013557360973209143 - 0.06931967288255692\n",
      "Epoch 29 :\n",
      "\tLOSSES : 0.015204338124021888 - 0.07298772037029266\n",
      "Epoch 30 :\n",
      "\tLOSSES : 0.01490235363598913 - 0.07031595706939697\n",
      "Epoch 31 :\n",
      "\tLOSSES : 0.014716808043885976 - 0.07005482167005539\n",
      "Epoch 32 :\n",
      "\tLOSSES : 0.015417836199048907 - 0.07459386438131332\n",
      "Epoch 33 :\n",
      "\tLOSSES : 0.014015112770721316 - 0.06876121461391449\n",
      "Epoch 34 :\n",
      "\tLOSSES : 0.011780239001382142 - 0.06735482811927795\n",
      "Epoch 35 :\n",
      "\tLOSSES : 0.010416456963866949 - 0.06868253648281097\n",
      "Epoch 36 :\n",
      "\tLOSSES : 0.011136010522022843 - 0.07109477370977402\n",
      "Epoch 37 :\n",
      "\tLOSSES : 0.011887935164850205 - 0.06577687710523605\n",
      "Epoch 38 :\n",
      "\tLOSSES : 0.011829227558337152 - 0.06846696883440018\n",
      "Epoch 39 :\n",
      "\tLOSSES : 0.009990210499381647 - 0.06497298181056976\n",
      "Epoch 40 :\n",
      "\tLOSSES : 0.008862419374054298 - 0.06683099269866943\n",
      "Epoch 41 :\n",
      "\tLOSSES : 0.008260947710368782 - 0.06753852963447571\n",
      "Epoch 42 :\n",
      "\tLOSSES : 0.007561697420896962 - 0.06319579482078552\n",
      "Epoch 43 :\n",
      "\tLOSSES : 0.006644824403338134 - 0.06464581191539764\n",
      "Epoch 44 :\n",
      "\tLOSSES : 0.006291162018897012 - 0.06621908396482468\n",
      "Epoch 45 :\n",
      "\tLOSSES : 0.007245810382300988 - 0.06536463648080826\n"
     ]
    },
    {
     "data": {
      "text/plain": [
       "<matplotlib.legend.Legend at 0x2fc897fd0>"
      ]
     },
     "execution_count": 144,
     "metadata": {},
     "output_type": "execute_result"
    },
    {
     "data": {
      "image/png": "[encoded data removed]",
      "text/plain": [
       "<Figure size 600x1200 with 2 Axes>"
      ]
     },
     "metadata": {},
     "output_type": "display_data"
    }
   ],
   "source": [
    "#auto encoder build\n",
    "EPOCHS=45\n",
    "r=2\n",
    "sae_sqrt = ae.ShallowAE(n_in, int(r*n_in), bottleneck)\n",
    "loss_fn = nn.MSELoss()\n",
    "optimizer = torch.optim.Adam(params=sae_sqrt.parameters(), lr=0.003)\n",
    "\n",
    "# Auto encoder training\n",
    "loss_train, loss_test, loss_unsup= ae.train_ae(sae_sqrt, optimizer, loss_fn, train_dl2, test_dl2, EPOCHS, unsup_dl=unsup_dl2, device=\"mps\", verbose=True)\n",
    "results = np.array(loss_train), np.array(loss_test), np.array(loss_unsup)\n",
    "\n",
    "#figure plotting\n",
    "fig, ax = plt.subplots(2,1, figsize=(6,12))\n",
    "ax[0].plot(range(EPOCHS), results[0], c='orange', label='Train', linestyle='--')\n",
    "ax[0].plot(range(EPOCHS), results[1], c='b', label='Test', linestyle='-.')\n",
    "ax[0].plot(range(EPOCHS), results[2], c='r', label='Unsup')\n",
    "\n",
    "ax[1].plot(range(EPOCHS), np.log(results[0]), c='orange', label='logTrain', linestyle='--')\n",
    "ax[1].plot(range(EPOCHS), np.log(results[1]), c='b', label='logTest', linestyle='-.')\n",
    "ax[1].plot(range(EPOCHS), np.log(results[2]), c='r', label='logUnsup')\n",
    "plt.legend()"
   ]
  },
  {
   "cell_type": "code",
   "execution_count": 11,
   "metadata": {},
   "outputs": [
    {
     "ename": "SyntaxError",
     "evalue": "invalid character '£' (U+00A3) (3876626839.py, line 8)",
     "output_type": "error",
     "traceback": [
      "\u001b[0;36m  Cell \u001b[0;32mIn[11], line 8\u001b[0;36m\u001b[0m\n\u001b[0;31m    loss_train, loss_test, loss_unsup= ae.train_ae(sae_sqrt, optimizer, loss_fn, train_dl2, test_dl2, EPOCHS, unsup_dl=unsup_dl2, device=\"mps\", verbose=False£)\u001b[0m\n\u001b[0m                                                                                                                                                             ^\u001b[0m\n\u001b[0;31mSyntaxError\u001b[0m\u001b[0;31m:\u001b[0m invalid character '£' (U+00A3)\n"
     ]
    }
   ],
   "source": [
    "#auto encoder build\n",
    "def draft_plot_ae(EPOCHS, r, lr):\n",
    "    sae_sqrt = ae.ShallowAE(n_in, int(r*n_in), bottleneck)\n",
    "    loss_fn = nn.MSELoss()\n",
    "    optimizer = torch.optim.Adam(params=sae_sqrt.parameters(), lr=lr)\n",
    "\n",
    "    # Auto encoder training\n",
    "    loss_train, loss_test, loss_unsup= ae.train_ae(sae_sqrt, optimizer, loss_fn, train_dl2, test_dl2, EPOCHS, unsup_dl=unsup_dl2, device=\"mps\", verbose=False)\n",
    "    results = np.array(loss_train), np.array(loss_test), np.array(loss_unsup)\n",
    "\n",
    "    #figure plotting\n",
    "    fig, ax = plt.subplots(2,1, figsize=(6,12))\n",
    "    ax[0].plot(range(EPOCHS), results[0], c='orange', label='Train', linestyle='--')\n",
    "    ax[0].plot(range(EPOCHS), results[1], c='b', label='Test', linestyle='-.')\n",
    "    ax[0].plot(range(EPOCHS), results[2], c='r', label='Unsup')\n",
    "\n",
    "    ax[1].plot(range(EPOCHS), np.log(results[0]), c='orange', label='logTrain', linestyle='--')\n",
    "    ax[1].plot(range(EPOCHS), np.log(results[1]), c='b', label='logTest', linestyle='-.')\n",
    "    ax[1].plot(range(EPOCHS), np.log(results[2]), c='r', label='logUnsup')\n",
    "    plt.legend()"
   ]
  },
  {
   "cell_type": "code",
   "execution_count": 12,
   "metadata": {},
   "outputs": [],
   "source": [
    "# draft_plot_ae(EPOCHS=20, r=2, lr=0.0035)\n",
    "# draft_plot_ae(EPOCHS=20, r=2.5, lr=0.003)\n",
    "# draft_plot_ae(EPOCHS=20, r=1.5, lr=0.003)\n",
    "# draft_plot_ae(EPOCHS=40, r=2, lr=0.002)\n",
    "# draft_plot_ae(EPOCHS=60, r=2, lr=0.002)\n",
    "# draft_plot_ae(EPOCHS=60, r=2, lr=0.002)"
   ]
  },
  {
   "cell_type": "code",
   "execution_count": null,
   "metadata": {},
   "outputs": [],
   "source": []
  }
 ],
 "metadata": {
  "kernelspec": {
   "display_name": "headmind",
   "language": "python",
   "name": "python3"
  },
  "language_info": {
   "codemirror_mode": {
    "name": "ipython",
    "version": 3
   },
   "file_extension": ".py",
   "mimetype": "text/x-python",
   "name": "python",
   "nbconvert_exporter": "python",
   "pygments_lexer": "ipython3",
   "version": "3.11.9"
  }
 },
 "nbformat": 4,
 "nbformat_minor": 2
}
